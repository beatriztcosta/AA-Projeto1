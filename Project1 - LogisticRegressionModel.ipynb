{
 "cells": [
  {
   "cell_type": "markdown",
   "id": "e9b0f507",
   "metadata": {},
   "source": [
    "#  Project 1 - Bee Subspecie Classification (logistic regression vs neural network approach) "
   ]
  },
  {
   "cell_type": "markdown",
   "id": "a48376b8",
   "metadata": {},
   "source": [
    "### Import relevant libraries"
   ]
  },
  {
   "cell_type": "code",
   "execution_count": 47,
   "id": "0bae40c3",
   "metadata": {},
   "outputs": [],
   "source": [
    "import sys\n",
    "import numpy as np\n",
    "np.set_printoptions(threshold=sys.maxsize)\n",
    "import pandas as pd\n",
    "import matplotlib.pyplot as plt\n",
    "import cv2\n",
    "import plotly.express as px\n",
    "from sklearn.model_selection import train_test_split, KFold, cross_val_score, StratifiedKFold, LeaveOneOut\n",
    "from sklearn.linear_model import LogisticRegression\n",
    "from sklearn.metrics import accuracy_score\n",
    "#to load matlab mat files\n",
    "from scipy.io import loadmat\n",
    "\n",
    "size = 50"
   ]
  },
  {
   "cell_type": "markdown",
   "id": "78877529",
   "metadata": {},
   "source": [
    "## PART 2: Load data"
   ]
  },
  {
   "cell_type": "code",
   "execution_count": 51,
   "id": "1f0dd3a3",
   "metadata": {},
   "outputs": [
    {
     "name": "stdout",
     "output_type": "stream",
     "text": [
      "X_train.shape: (304, 2500)\n",
      "y_train.shape: (304,)\n",
      "x_cv.shape: (102, 2500)\n",
      "y_cv.shape: (102,)\n",
      "X_test.shape: (102, 2500)\n",
      "y_test.shape: (102,)\n",
      "Accuracy score: 0.6666666666666666\n"
     ]
    }
   ],
   "source": [
    "ds = pd.read_csv('bee_dataset/ml_data.csv')\n",
    "features=ds['features']\n",
    "y1=ds['class']\n",
    "y2 = {'Italian honey bee':1,'Carniolan honey bee':2,\n",
    "      'Russian honey bee':3,'1 Mixed local stock 2':4,'Western honey bee':5}\n",
    "y = (pd.Series(y1)).map(y2)\n",
    "y = np.array(y)\n",
    "#y = np.reshape(y, (-1, 1))\n",
    "#print(type(y))\n",
    "#print(y)\n",
    "n_examples = features.shape[0]\n",
    "feature_size = size*size\n",
    "X = np.empty((n_examples,feature_size), float)\n",
    "for idx,f in enumerate(features):\n",
    "        arr_f = np.fromstring(f, dtype=float, sep=' ')\n",
    "        arr_f = np.reshape(arr_f, (1,arr_f.shape[0]))\n",
    "        X[idx,:] = np.copy(arr_f)\n",
    "#X = np.copy(arr)\n",
    "#print(y.shape)\n",
    "#print(X.shape)\n",
    "\n",
    "# 3 way split: Train/Dev/Test Sets\n",
    "# As we use a small data set (up to 10000 examples) we will use this division: 60%/20%/20%\n",
    "# One approach to dividing the dataset into train, test, cv with 0.6, 0.2, 0.2 would be to use the train_test_split method twice.\n",
    "\n",
    "x, x_test, y, y_test = train_test_split(X,y,test_size=0.2,train_size=0.8)\n",
    "x_train, x_cv, y_train, y_cv = train_test_split(x,y,test_size = 0.25,train_size =0.75)\n",
    "\n",
    "print('X_train.shape: ' + str(x_train.shape))\n",
    "print('y_train.shape: ' + str(y_train.shape))\n",
    "print('x_cv.shape: ' + str(x_cv.shape))\n",
    "print('y_cv.shape: ' + str(y_cv.shape))\n",
    "print('X_test.shape: ' + str(x_test.shape))\n",
    "print('y_test.shape: ' + str(y_test.shape))\n",
    "\n",
    "#X_train, X_test, y_train, y_test = train_test_split(X, y, test_size=0.2)\n",
    "model = LogisticRegression(max_iter=7000)\n",
    "model.fit(x_train, y_train)\n",
    "result = model.score(x_test, y_test)\n",
    "print(\"Accuracy score: {}\".format(result))\n",
    "#print (X_train.shape, y_train.shape)\n",
    "#print (X_test.shape, y_test.shape)"
   ]
  },
  {
   "cell_type": "code",
   "execution_count": 54,
   "id": "e8f50d68",
   "metadata": {},
   "outputs": [
    {
     "name": "stdout",
     "output_type": "stream",
     "text": [
      "Cross Validation Scores: [0.75409836 0.67213115 0.6557377  0.67213115 0.78333333]\n",
      "Average Cross Validation score :0.7074863387978142\n"
     ]
    }
   ],
   "source": [
    "#K-Fold Cross-Validation\n",
    "#Pros: The whole dataset is used as both a training set and validation set\n",
    "#Cons: Not to be used for imbalanced datasets\n",
    "\n",
    "kf=KFold(n_splits=5)\n",
    "score=cross_val_score(model,x_train,y_train,cv=kf)\n",
    "print(\"Cross Validation Scores: {}\".format(score))\n",
    "print(\"Average Cross Validation score :{}\".format(score.mean()))"
   ]
  },
  {
   "cell_type": "code",
   "execution_count": 55,
   "id": "0751db21",
   "metadata": {},
   "outputs": [
    {
     "name": "stdout",
     "output_type": "stream",
     "text": [
      "Cross Validation Scores: [0.7704918  0.73770492 0.67213115 0.59016393 0.78333333]\n",
      "Average Cross Validation score:0.7107650273224044\n"
     ]
    }
   ],
   "source": [
    "#Stratified K-Fold Cross-Validation\n",
    "#Pros: Works perfectly well for Imbalanced Data\n",
    "#Cons: Not suitable for Time Series data\n",
    "\n",
    "stratifiedkf=StratifiedKFold(n_splits=5)\n",
    "score=cross_val_score(model,x_train,y_train,cv=stratifiedkf)\n",
    "print(\"Cross Validation Scores: {}\".format(score))\n",
    "print(\"Average Cross Validation score:{}\".format(score.mean()))"
   ]
  },
  {
   "cell_type": "code",
   "execution_count": null,
   "id": "ec97967a",
   "metadata": {},
   "outputs": [],
   "source": [
    "#Leave One Out cross-validation\n",
    "\n",
    "loo=LeaveOneOut()\n",
    "score=cross_val_score(model,x_train,y_train,cv=loo)\n",
    "print(\"Cross Validation Scores: {}\".format(score))\n",
    "print(\"Average Cross Validation score:{}\".format(score.mean()))"
   ]
  }
 ],
 "metadata": {
  "kernelspec": {
   "display_name": "Python 3 (ipykernel)",
   "language": "python",
   "name": "python3"
  },
  "language_info": {
   "codemirror_mode": {
    "name": "ipython",
    "version": 3
   },
   "file_extension": ".py",
   "mimetype": "text/x-python",
   "name": "python",
   "nbconvert_exporter": "python",
   "pygments_lexer": "ipython3",
   "version": "3.9.7"
  }
 },
 "nbformat": 4,
 "nbformat_minor": 5
}
