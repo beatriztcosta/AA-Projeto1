{
 "cells": [
  {
   "cell_type": "markdown",
   "id": "e9b0f507",
   "metadata": {},
   "source": [
    "#  Project 1 - Bee Subspecie Classification (logistic regression vs neural network approach) "
   ]
  },
  {
   "cell_type": "markdown",
   "id": "a48376b8",
   "metadata": {},
   "source": [
    "### Import relevant libraries"
   ]
  },
  {
   "cell_type": "code",
   "execution_count": 3,
   "id": "0bae40c3",
   "metadata": {},
   "outputs": [],
   "source": [
    "import sys\n",
    "import numpy as np\n",
    "np.set_printoptions(threshold=sys.maxsize)\n",
    "import pandas as pd\n",
    "import matplotlib.pyplot as plt\n",
    "import cv2\n",
    "import plotly.express as px\n",
    "from sklearn.model_selection import train_test_split, KFold, cross_val_score, StratifiedKFold, LeaveOneOut\n",
    "from sklearn.linear_model import LogisticRegression\n",
    "from sklearn.metrics import RocCurveDisplay, plot_roc_curve, roc_curve, roc_auc_score, accuracy_score, confusion_matrix, classification_report, accuracy_score, ConfusionMatrixDisplay\n",
    "from statistics import mean, stdev\n",
    "#to load matlab mat files\n",
    "from scipy.io import loadmat\n",
    "\n",
    "size = 100"
   ]
  },
  {
   "cell_type": "markdown",
   "id": "78877529",
   "metadata": {},
   "source": [
    "## PART 2: Load data"
   ]
  },
  {
   "cell_type": "code",
   "execution_count": 35,
   "id": "1f0dd3a3",
   "metadata": {},
   "outputs": [
    {
     "name": "stdout",
     "output_type": "stream",
     "text": [
      "X_train.shape: (1052, 10000)\n",
      "y_train.shape: (1052,)\n",
      "X_test.shape: (451, 10000)\n",
      "y_test.shape: (451,)\n"
     ]
    }
   ],
   "source": [
    "# -----------------------------------\n",
    "# Loading of the data from the .csv\n",
    "\n",
    "ds = pd.read_csv('bee_dataset/balanced_ml_databackup.csv')\n",
    "features=ds['features']\n",
    "y1=ds['class']\n",
    "\n",
    "# -----------------------------------\n",
    "# Mapping the labels to integers from the dictionary\n",
    "\n",
    "y2 = {'Italian honey bee':1,'Carniolan honey bee':2,\n",
    "      'Russian honey bee':3}\n",
    "y = (pd.Series(y1)).map(y2)\n",
    "y = np.array(y)\n",
    "#y = np.reshape(y, (-1, 1))\n",
    "#print(type(y))\n",
    "#print(y)\n",
    "\n",
    "# -----------------------------------\n",
    "\n",
    "n_examples = features.shape[0]\n",
    "feature_size = size*size\n",
    "X = np.empty((n_examples,feature_size), float)\n",
    "for idx,f in enumerate(features):\n",
    "        arr_f = np.fromstring(f, dtype=float, sep=' ')\n",
    "        arr_f = np.reshape(arr_f, (1,arr_f.shape[0]))\n",
    "        X[idx,:] = np.copy(arr_f)\n",
    "#X = np.copy(arr)\n",
    "#print(y.shape)\n",
    "#print(X.shape)\n",
    "\n",
    "# -----------------------------------\n",
    "# Split of the data\n",
    "# 3 Methods used - choose 1 only\n",
    "\n",
    "# 80%/20% Holdout Method \n",
    "\n",
    "X_train, X_test, y_train, y_test = train_test_split(X, y, test_size=0.2)\n",
    "\n",
    "# 70%/30% Holdout Method \n",
    "\n",
    "#X_train, X_test, y_train, y_test = train_test_split(X, y, test_size=0.3)\n",
    "\n",
    "# 3 way split: Train/Dev/Test Sets\n",
    "# As we use a small data set (up to 10000 examples) we will use this division: 60%/20%/20%\n",
    "# One approach to dividing the dataset into train, test, cv with 0.6, 0.2, 0.2 is to use the train_test_split method twice like below.\n",
    "\n",
    "#X, X_test, y, y_test = train_test_split(X,y,test_size=0.2,train_size=0.8)\n",
    "#X_train, X_cv, y_train, y_cv = train_test_split(X,y,test_size = 0.25,train_size =0.75)\n",
    "\n",
    "# -----------------------------------\n",
    "\n",
    "# Informations about the shapes\n",
    "print('X_train.shape: ' + str(X_train.shape))\n",
    "print('y_train.shape: ' + str(y_train.shape))\n",
    "print('X_test.shape: ' + str(X_test.shape))\n",
    "print('y_test.shape: ' + str(y_test.shape))\n",
    "\n",
    "# For when using the 3 way split:\n",
    "\n",
    "#print('X_cv.shape: ' + str(X_cv.shape))\n",
    "#print('y_cv.shape: ' + str(y_cv.shape))\n",
    "\n",
    "# -----------------------------------"
   ]
  },
  {
   "cell_type": "code",
   "execution_count": 36,
   "id": "5b01fdb6",
   "metadata": {},
   "outputs": [
    {
     "data": {
      "text/plain": [
       "LogisticRegression(max_iter=20000)"
      ]
     },
     "execution_count": 36,
     "metadata": {},
     "output_type": "execute_result"
    }
   ],
   "source": [
    "# Apllying the classifier from the sklearn library and fitting the training data to the model\n",
    "\n",
    "model = LogisticRegression(max_iter=20000)\n",
    "#clf = OneVsRestClassifier(model).fit(X_train, y_train)\n",
    "model.fit(X_train, y_train)"
   ]
  },
  {
   "cell_type": "code",
   "execution_count": 37,
   "id": "d059a4af",
   "metadata": {
    "scrolled": true
   },
   "outputs": [
    {
     "name": "stdout",
     "output_type": "stream",
     "text": [
      "Training Set accuracy: 99.90494296577947%\n",
      "Testing Set accuracy: 76.27494456762749%\n"
     ]
    }
   ],
   "source": [
    "# Testing the model \n",
    "\n",
    "score = model.score(X_train, y_train)\n",
    "score2 = model.score(X_test, y_test)\n",
    "print(\"Training Set accuracy: {}%\".format(score*100))\n",
    "print(\"Testing Set accuracy: {}%\".format(score2*100))"
   ]
  },
  {
   "cell_type": "code",
   "execution_count": 38,
   "id": "9f4724e5",
   "metadata": {},
   "outputs": [
    {
     "name": "stdout",
     "output_type": "stream",
     "text": [
      "[[112   6  33]\n",
      " [  5 123  19]\n",
      " [ 13  31 109]]\n",
      "----------------------\n",
      "Confusion Matrix Display:\n"
     ]
    },
    {
     "data": {
      "image/png": "[encoded data removed]",
      "text/plain": [
       "<Figure size 432x288 with 2 Axes>"
      ]
     },
     "metadata": {
      "needs_background": "light"
     },
     "output_type": "display_data"
    }
   ],
   "source": [
    "# Getting predictions from the model to obtain the metrics and performance measures\n",
    "\n",
    "predictions = model.predict(X_test)\n",
    "\n",
    "# Confusion Matrix\n",
    "\n",
    "cm = confusion_matrix(y_test, predictions) #,normalize='all')\n",
    "print(cm)\n",
    "print(\"----------------------\")\n",
    "display_labels = ['Italian', 'Carniolan', 'Russian']\n",
    "print(\"Confusion Matrix Display:\")\n",
    "disp = ConfusionMatrixDisplay(confusion_matrix=cm,\n",
    "                              display_labels=display_labels)\n",
    "disp.plot()\n",
    "\n",
    "plt.show()"
   ]
  },
  {
   "cell_type": "code",
   "execution_count": 39,
   "id": "030214a5",
   "metadata": {},
   "outputs": [
    {
     "name": "stdout",
     "output_type": "stream",
     "text": [
      "                     precision    recall  f1-score   support\n",
      "\n",
      "  Italian Honey Bee       0.86      0.74      0.80       151\n",
      "Carniolan Honey Bee       0.77      0.84      0.80       147\n",
      "  Russian Honey Bee       0.68      0.71      0.69       153\n",
      "\n",
      "           accuracy                           0.76       451\n",
      "          macro avg       0.77      0.76      0.76       451\n",
      "       weighted avg       0.77      0.76      0.76       451\n",
      "\n"
     ]
    }
   ],
   "source": [
    "# Classification Report\n",
    "\n",
    "target_names = ['Italian Honey Bee', 'Carniolan Honey Bee', 'Russian Honey Bee']\n",
    "print(classification_report(y_test, predictions, target_names=target_names))"
   ]
  },
  {
   "cell_type": "code",
   "execution_count": 40,
   "id": "e8f50d68",
   "metadata": {},
   "outputs": [
    {
     "name": "stdout",
     "output_type": "stream",
     "text": [
      "Average Cross Validation accuracy :76.23741819002483%\n",
      "Minimum Cross Validation accuracy :72.98578199052133%\n",
      "Maximum Cross Validation accuracy :77.72511848341233%\n",
      "\n",
      "Standard Deviation is: 0.018691387283700747\n"
     ]
    }
   ],
   "source": [
    "#K-Fold Cross-Validation\n",
    "#Pros: The whole dataset is used as both a training set and validation set\n",
    "#Cons: Not to be used for imbalanced datasets\n",
    "\n",
    "kf=KFold(n_splits=5)\n",
    "score=cross_val_score(model,X_train,y_train,cv=kf)\n",
    "#print(\"Cross Validation Scores: {}\".format(score))\n",
    "print(\"Average Cross Validation accuracy :{}%\".format(score.mean()*100))\n",
    "print(\"Minimum Cross Validation accuracy :{}%\".format(score.min()*100))\n",
    "print(\"Maximum Cross Validation accuracy :{}%\".format(score.max()*100))\n",
    "print('\\nStandard Deviation is:', stdev(score))"
   ]
  },
  {
   "cell_type": "code",
   "execution_count": 41,
   "id": "0751db21",
   "metadata": {},
   "outputs": [
    {
     "name": "stdout",
     "output_type": "stream",
     "text": [
      "Average Cross Validation accuracy :75.57300835025953%\n",
      "Minimum Cross Validation accuracy :72.98578199052133%\n",
      "Maximum Cross Validation accuracy :77.61904761904762%\n",
      "\n",
      "Standard Deviation is: 0.017489713951600712\n"
     ]
    }
   ],
   "source": [
    "#Stratified K-Fold Cross-Validation\n",
    "#Pros: Works perfectly well for Imbalanced Data\n",
    "#Cons: Not suitable for Time Series data\n",
    "\n",
    "stratifiedkf=StratifiedKFold(n_splits=5)\n",
    "score=cross_val_score(model,X_train,y_train,cv=stratifiedkf)\n",
    "#print(\"Cross Validation Scores: {}\".format(score))\n",
    "print(\"Average Cross Validation accuracy :{}%\".format(score.mean()*100))\n",
    "print(\"Minimum Cross Validation accuracy :{}%\".format(score.min()*100))\n",
    "print(\"Maximum Cross Validation accuracy :{}%\".format(score.max()*100))\n",
    "print('\\nStandard Deviation is:', stdev(score))"
   ]
  },
  {
   "cell_type": "code",
   "execution_count": null,
   "id": "1485c25b",
   "metadata": {},
   "outputs": [],
   "source": [
    "#Leave One Out cross-validation\n",
    "#Tested but didn't obatin results in a productive time \n",
    "#because it is not computationally efficient and is time-consuming for this case of complex problem\n",
    "\n",
    "#loo=LeaveOneOut()\n",
    "#score=cross_val_score(model,X_train,y_train,cv=loo)\n",
    "#print(\"Cross Validation Scores: {}\".format(score))\n",
    "#print(\"Average Cross Validation accuracy :{}%\".format(score.mean()*100))\n",
    "#print(\"Minimum Cross Validation accuracy :{}%\".format(score.min()*100))\n",
    "#print(\"Maximum Cross Validation accuracy :{}%\".format(score.max()*100))\n",
    "#print('\\nStandard Deviation is:', stdev(score))"
   ]
  }
 ],
 "metadata": {
  "kernelspec": {
   "display_name": "Python 3 (ipykernel)",
   "language": "python",
   "name": "python3"
  },
  "language_info": {
   "codemirror_mode": {
    "name": "ipython",
    "version": 3
   },
   "file_extension": ".py",
   "mimetype": "text/x-python",
   "name": "python",
   "nbconvert_exporter": "python",
   "pygments_lexer": "ipython3",
   "version": "3.9.7"
  }
 },
 "nbformat": 4,
 "nbformat_minor": 5
}
