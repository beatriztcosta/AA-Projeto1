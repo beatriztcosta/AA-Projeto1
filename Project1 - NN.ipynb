{
 "cells": [
  {
   "cell_type": "markdown",
   "id": "e9b0f507",
   "metadata": {},
   "source": [
    "#  Project 1 - Bee Subspecie Classification (logistic regression vs neural network approach) "
   ]
  },
  {
   "cell_type": "markdown",
   "id": "a48376b8",
   "metadata": {},
   "source": [
    "### Import relevant libraries"
   ]
  },
  {
   "cell_type": "code",
   "execution_count": 1,
   "id": "0bae40c3",
   "metadata": {},
   "outputs": [],
   "source": [
    "import sys\n",
    "from time import time\n",
    "import numpy as np\n",
    "np.set_printoptions(threshold=sys.maxsize)\n",
    "import pandas as pd\n",
    "import matplotlib.pyplot as plt\n",
    "import cv2\n",
    "import plotly.express as px\n",
    "from sklearn.model_selection import train_test_split, learning_curve\n",
    "from sklearn.metrics import confusion_matrix, classification_report, accuracy_score, ConfusionMatrixDisplay\n",
    "#to load matlab mat files\n",
    "from scipy.io import loadmat\n",
    "\n",
    "size = 100 #Desired size of columns and rows of each image (size*size)\n",
    "img_class_threshold = 500 #Minimum amount of images from each class"
   ]
  },
  {
   "cell_type": "markdown",
   "id": "78877529",
   "metadata": {},
   "source": [
    "## PART 2: Load data"
   ]
  },
  {
   "cell_type": "code",
   "execution_count": 2,
   "id": "1f0dd3a3",
   "metadata": {},
   "outputs": [
    {
     "name": "stdout",
     "output_type": "stream",
     "text": [
      "(1202, 10000) (1202, 1)\n",
      "(301, 10000) (301, 1)\n"
     ]
    }
   ],
   "source": [
    "ds = pd.read_csv('bee_dataset/balanced_ml_data.csv')\n",
    "features=ds['features']\n",
    "y1=ds['class']\n",
    "y2 = {'Italian honey bee':1,'Carniolan honey bee':2, 'Russian honey bee':3}\n",
    "      #,'1 Mixed local stock 2':4\n",
    "y = (pd.Series(y1)).map(y2)\n",
    "y = np.array(y)\n",
    "y = np.reshape(y, (-1, 1))\n",
    "#print(type(y))\n",
    "#print(y)\n",
    "n_examples = features.shape[0]\n",
    "feature_size = size*size\n",
    "X = np.empty((n_examples,feature_size), float)\n",
    "for idx,f in enumerate(features):\n",
    "        arr_f = np.fromstring(f, dtype=float, sep=' ')\n",
    "        arr_f = np.reshape(arr_f, (1,arr_f.shape[0]))\n",
    "        X[idx,:] = np.copy(arr_f)\n",
    "#X = np.copy(arr)\n",
    "#print(y.shape)\n",
    "#print(X.shape)\n",
    "\n",
    "X_train, X_test, y_train, y_test = train_test_split(X, y, test_size=0.2)\n",
    "print (X_train.shape, y_train.shape)\n",
    "print (X_test.shape, y_test.shape)\n"
   ]
  },
  {
   "cell_type": "markdown",
   "id": "fefc49bc",
   "metadata": {},
   "source": [
    "# PART 3: Neural Network training"
   ]
  },
  {
   "cell_type": "code",
   "execution_count": 3,
   "id": "c129ed1a",
   "metadata": {},
   "outputs": [],
   "source": [
    "# Add sigmoid FUNCTION from the previous lab\n",
    "def sigmoid(z):\n",
    "    \"\"\"\n",
    "    return the sigmoid of z\n",
    "    \"\"\"\n",
    "    gz= 1/(1+np.exp(-z))\n",
    "\n",
    "    return gz"
   ]
  },
  {
   "cell_type": "code",
   "execution_count": 4,
   "id": "05b63087",
   "metadata": {},
   "outputs": [],
   "source": [
    "def nnCostFunction(nn_params,input_layer_size, hidden_layer_size, num_labels,X, y,Lambda):\n",
    "    \"\"\"\n",
    "    nn_params contains the parameters unrolled into a vector\n",
    "    \n",
    "    compute the cost and gradient of the neural network\n",
    "    \"\"\"\n",
    "    # Reshape nn_params back into the parameters Theta1 and Theta2\n",
    "    Theta1 = nn_params[:((input_layer_size+1) * hidden_layer_size)].reshape(hidden_layer_size,input_layer_size+1)\n",
    "    Theta2 = nn_params[((input_layer_size +1)* hidden_layer_size ):].reshape(num_labels,hidden_layer_size+1)\n",
    "    \n",
    "    m = X.shape[0]\n",
    "    J=0\n",
    "    X = np.hstack((np.ones((m,1)),X))\n",
    "    y10 = np.zeros((m,num_labels))\n",
    "    \n",
    "    a1 = sigmoid(X @ Theta1.T)\n",
    "    a1 = np.hstack((np.ones((m,1)), a1)) # hidden layer\n",
    "    a2 = sigmoid(a1 @ Theta2.T) # output layer\n",
    "    \n",
    "    for i in range(1,num_labels+1):\n",
    "        y10[:,i-1][:,np.newaxis] = np.where(y==i,1,0)\n",
    "    for j in range(num_labels):\n",
    "        J = J + sum(-y10[:,j] * np.log(a2[:,j]) - (1-y10[:,j])*np.log(1-a2[:,j]))\n",
    "    \n",
    "    cost = 1/m* J\n",
    "    reg_J = cost + Lambda/(2*m) * (np.sum(Theta1[:,1:]**2) + np.sum(Theta2[:,1:]**2))\n",
    "    \n",
    "    # Implement the backpropagation algorithm to compute the gradients\n",
    "    \n",
    "    grad1 = np.zeros((Theta1.shape))\n",
    "    grad2 = np.zeros((Theta2.shape))\n",
    "    \n",
    "    for i in range(m):\n",
    "        xi= X[i,:] # 1 X 401\n",
    "        a1i = a1[i,:] # 1 X 26\n",
    "        a2i =a2[i,:] # 1 X 10\n",
    "        d2 = a2i - y10[i,:]\n",
    "        d1 = Theta2.T @ d2.T * sigmoidGradient(np.hstack((1,xi @ Theta1.T)))\n",
    "        grad1= grad1 + d1[1:][:,np.newaxis] @ xi[:,np.newaxis].T\n",
    "        grad2 = grad2 + d2.T[:,np.newaxis] @ a1i[:,np.newaxis].T\n",
    "        \n",
    "    grad1 = 1/m * grad1\n",
    "    grad2 = 1/m*grad2\n",
    "    \n",
    "    grad1_reg = grad1 + (Lambda/m) * np.hstack((np.zeros((Theta1.shape[0],1)),Theta1[:,1:]))\n",
    "    grad2_reg = grad2 + (Lambda/m) * np.hstack((np.zeros((Theta2.shape[0],1)),Theta2[:,1:]))\n",
    "    \n",
    "    return cost, grad1, grad2, reg_J, grad1_reg, grad2_reg"
   ]
  },
  {
   "cell_type": "code",
   "execution_count": 5,
   "id": "cbbada4e",
   "metadata": {},
   "outputs": [],
   "source": [
    "#Computes the gradient of sigmoid function\n",
    "def sigmoidGradient(z):\n",
    "    \"\"\"\n",
    "    computes the gradient of the sigmoid function\n",
    "    \"\"\"\n",
    "    sigmoid = 1/(1 + np.exp(-z))\n",
    "    \n",
    "    return sigmoid *(1-sigmoid) "
   ]
  },
  {
   "cell_type": "code",
   "execution_count": 6,
   "id": "f8fc11fc",
   "metadata": {},
   "outputs": [],
   "source": [
    "def randInitializeWeights(L_in, L_out):\n",
    "    \"\"\"\n",
    "    randomly initializes the weights of a layer with L_in incoming connections and L_out outgoing connections.\n",
    "    \"\"\"\n",
    "    \n",
    "    epi = (6**1/2) / (L_in + L_out)**1/2\n",
    "    \n",
    "    W = np.random.rand(L_out,L_in +1) *(2*epi) -epi\n",
    "    \n",
    "    return W"
   ]
  },
  {
   "cell_type": "code",
   "execution_count": 7,
   "id": "dd6fa06b",
   "metadata": {},
   "outputs": [],
   "source": [
    "input_layer_size  = 10000\n",
    "hidden_layer_size = 25\n",
    "num_labels = 3\n",
    "\n",
    "initial_Theta1 = randInitializeWeights(input_layer_size, hidden_layer_size)\n",
    "initial_Theta2 = randInitializeWeights(hidden_layer_size, num_labels)\n",
    "initial_nn_params = np.append(initial_Theta1.flatten(),initial_Theta2.flatten())"
   ]
  },
  {
   "cell_type": "code",
   "execution_count": 8,
   "id": "cc6b0d90",
   "metadata": {},
   "outputs": [],
   "source": [
    "def gradientDescentnn(X,y,initial_nn_params,alpha,num_iters,Lambda,input_layer_size, hidden_layer_size, num_labels):\n",
    "    \"\"\"\n",
    "    Take in numpy array X, y and theta and update theta by taking num_iters gradient steps\n",
    "    with learning rate of alpha\n",
    "    \n",
    "    return theta and the list of the cost of theta during each iteration\n",
    "    \"\"\"\n",
    "    Theta1 = initial_nn_params[:((input_layer_size+1) * hidden_layer_size)].reshape(hidden_layer_size,input_layer_size+1)\n",
    "    Theta2 = initial_nn_params[((input_layer_size +1)* hidden_layer_size ):].reshape(num_labels,hidden_layer_size+1)\n",
    "    \n",
    "    m=len(y)\n",
    "    J_history =[]\n",
    "    \n",
    "    for i in range(num_iters):\n",
    "        nn_params = np.append(Theta1.flatten(),Theta2.flatten())\n",
    "        cost, grad1, grad2 = nnCostFunction(nn_params,input_layer_size, hidden_layer_size, num_labels,X, y,Lambda)[3:]\n",
    "        Theta1 = Theta1 - (alpha * grad1)\n",
    "        Theta2 = Theta2 - (alpha * grad2)\n",
    "        J_history.append(cost)\n",
    "    \n",
    "    nn_paramsFinal = np.append(Theta1.flatten(),Theta2.flatten())\n",
    "    return nn_paramsFinal , J_history"
   ]
  },
  {
   "cell_type": "code",
   "execution_count": null,
   "id": "42e30796",
   "metadata": {},
   "outputs": [],
   "source": [
    "alpha= 0.01 #learning rate\n",
    "num_iters=10000\n",
    "Lambda=0.001\n",
    "\n",
    "nnTheta, nnJ_history = gradientDescentnn(X_train,y_train,initial_nn_params,alpha,num_iters,Lambda,input_layer_size, hidden_layer_size, num_labels)\n",
    "\n",
    "Theta1 = nnTheta[:((input_layer_size+1) * hidden_layer_size)].reshape(hidden_layer_size,input_layer_size+1)\n",
    "Theta2 = nnTheta[((input_layer_size +1)* hidden_layer_size ):].reshape(num_labels,hidden_layer_size+1)"
   ]
  },
  {
   "cell_type": "code",
   "execution_count": null,
   "id": "fbbc0641",
   "metadata": {},
   "outputs": [],
   "source": [
    "def predict(Theta1, Theta2, X):\n",
    "    \"\"\"\n",
    "    Predict the label of an input given a trained neural network\n",
    "    \"\"\"\n",
    "        #number of training examples\n",
    "    m = X.shape[0]\n",
    "        \n",
    "    # add an extra column of 1´s corresponding to xo=1\n",
    "    X = np.append(np.ones((m,1)),X,axis=1)\n",
    "    \n",
    "    #Compute the output of the hidden layer (with sigmoid activation functions)\n",
    "    z1=np.dot(X, Theta1.T)  #Inputs to the hidden layer neurons\n",
    "    a1=sigmoid(z1)  #Outputs  of the hidden layer neurons\n",
    "    \n",
    "    #Add a column of ones\n",
    "    a1 = np.append(np.ones((m,1)),a1, axis=1)\n",
    "    \n",
    "    #Compute the output of the output layer (with sigmoid activation functions)\n",
    "    z2=np.dot(a1, Theta2.T) #Inputs to the output layer neurons\n",
    "    a2=sigmoid(z2)  #Outputs  of the output layer neurons\n",
    "    \n",
    "    return np.argmax(a2,axis=1)+1"
   ]
  },
  {
   "cell_type": "code",
   "execution_count": null,
   "id": "9264545d",
   "metadata": {},
   "outputs": [],
   "source": [
    "pred3 = predict(Theta1, Theta2, X_train)\n",
    "m = X_train.shape[0]\n",
    "print(\"Training Set Accuracy:\",sum(pred3[:,np.newaxis]==y_train)[0]/m*100,\"%\")"
   ]
  },
  {
   "cell_type": "code",
   "execution_count": null,
   "id": "a1483bb7",
   "metadata": {},
   "outputs": [],
   "source": [
    "t0 = time()\n",
    "pred3 = predict(Theta1, Theta2, X_test)\n",
    "test_time = time() - t0\n",
    "m = X_test.shape[0]\n",
    "print(\"Testing Set Accuracy:\",sum(pred3[:,np.newaxis]==y_test)[0]/m*100,\"%\")\n",
    "print(\"Test time:  %0.3fs\" % test_time)"
   ]
  },
  {
   "cell_type": "code",
   "execution_count": null,
   "id": "7ee73679",
   "metadata": {},
   "outputs": [],
   "source": [
    "pred3 = np.array(pred3)\n",
    "pred3 = np.reshape(pred3, (-1, 1))\n",
    "print(\"----------------------\")\n",
    "print(\"Confusion Matrix:\")\n",
    "cm = confusion_matrix(y_test, pred3) #,normalize='all')\n",
    "print(cm)\n",
    "print(\"----------------------\")\n",
    "display_labels = ['Italian', 'Carniolan', 'Russian']\n",
    "print(\"Confusion Matrix Display:\")\n",
    "disp = ConfusionMatrixDisplay(confusion_matrix=cm,\n",
    "                              display_labels=display_labels)\n",
    "disp.plot()\n",
    "\n",
    "plt.show()"
   ]
  },
  {
   "cell_type": "code",
   "execution_count": null,
   "id": "91891f49",
   "metadata": {},
   "outputs": [],
   "source": [
    "target_names = ['Italian honey bee', 'Carniolan honey bee', 'Russian honey bee']\n",
    "print(\"Classification Report:\")\n",
    "print(classification_report(y_test, pred3, target_names=target_names))"
   ]
  },
  {
   "cell_type": "code",
   "execution_count": null,
   "id": "abdd37db",
   "metadata": {},
   "outputs": [],
   "source": [
    "# Plot the cost function evolution during training.\n",
    "#In order to say learning has finished, the cost function has to converge to a flat rate\n",
    "plt.plot(nnJ_history)  #\n",
    "plt.xlabel(\"Iteration\")\n",
    "plt.ylabel(\"$J(\\Theta)$\")\n",
    "plt.title(\"Cost function using Gradient Descent\")"
   ]
  },
  {
   "cell_type": "code",
   "execution_count": null,
   "id": "5651b1b3",
   "metadata": {},
   "outputs": [],
   "source": []
  }
 ],
 "metadata": {
  "kernelspec": {
   "display_name": "Python 3 (ipykernel)",
   "language": "python",
   "name": "python3"
  },
  "language_info": {
   "codemirror_mode": {
    "name": "ipython",
    "version": 3
   },
   "file_extension": ".py",
   "mimetype": "text/x-python",
   "name": "python",
   "nbconvert_exporter": "python",
   "pygments_lexer": "ipython3",
   "version": "3.9.7"
  }
 },
 "nbformat": 4,
 "nbformat_minor": 5
}
